{
 "cells": [
  {
   "cell_type": "markdown",
   "metadata": {
    "cell_id": "9e1bb8f6661f4630b4f1bdb8654ee1ce",
    "deepnote_cell_type": "markdown",
    "slideshow": {
     "slide_type": "-"
    }
   },
   "source": [
    "# M3 Materials modelling: a tension experiment in atomistic detail\n",
    "## Part IB laboratory exercise\n",
    "\n",
    "2022, Engineering Laboratory, University of Cambridge, Dr. Burigede Liu (bl377) adapted from Prof. Gábor Csányi (gc121)"
   ]
  },
  {
   "cell_type": "markdown",
   "metadata": {
    "cell_id": "65ebb3adc2a642c2995bae9acb07a72b",
    "deepnote_cell_height": 117.203125,
    "deepnote_cell_type": "markdown",
    "slideshow": {
     "slide_type": "-"
    }
   },
   "source": [
    "![bar](./files/copper-bar-zoom.png)"
   ]
  },
  {
   "cell_type": "markdown",
   "metadata": {
    "cell_id": "8cc7dced9b9045ef8c7745be9e274b66",
    "deepnote_cell_type": "markdown",
    "slideshow": {
     "slide_type": "-"
    }
   },
   "source": [
    "In this exercise you will learn how to model materials on the _atomic scale_, and use the model to investigate how metals respond under tensile stress. Simulating the response in such detail will allow you an insight into what happens on the smallest scales when a material is under load, how the Poisson ratio arises. At the end of the exrcise, you will see an example of how dislocations are generated and interact, which is the basis for the plastic response of the material. Large scale plasticity is of course more complicated, and depends on the interactions of an immense number of dislocations as well as grain boundaries and more rigid inclusions. \n",
    "\n",
    "In the course of the exercise, you will:\n",
    "\n",
    "1. Create and manipulate atomic scale structural models of crystalline matter\n",
    "1. Learn how to compute simple elastic properties of single crystal copper (Cu)\n",
    "1. Observe a strain controlled tensile test simulation of a notched bar, and the nucleation of dislocations\n",
    "\n",
    "This activity introduces you to _scientific computing_, the use of programming and numerical techniques to model, investigate and learn about a technical subject, in this case materials engineering. There is no extended programming required, and no significant software engineering skills introduced, beyond close reading of documentation. \n",
    "\n",
    "## Working on your own\n",
    "\n",
    "This is a purely computational laboratory exercise, with no assigned laboratory time. You will be working on your own, but there is a forum on Moodle where you can get guidance and help if you have any technical questions or if you get stuck. It is monitored daily by demonstrators, especially between 2-3pm.\n",
    "\n",
    "The [assigned times](https://deepnote.com/project/IB-Laboratory-M3-Materials-modelling-AqUdtvyXQVG1F2SCyP33lA/%2FM3_lab_schedule_Mich.pdf) in the rota are for *marking*, and serve as __deadlines__. You are encouraged to not leave things to the last minute, and you can get marked up for this lab at the DPO helpdesk any time before the deadline assigned to your lab group. \n",
    "\n",
    "\n",
    "## Software Environment\n",
    "\n",
    "You will be using a python package called [Atomic Simulation Environment](https://gitlab.com/ase/ase) (ASE), which you will need to download if you want to run this notebook on your own computer. It has excellent tutorials at its [documentation page](https://wiki.fysik.dtu.dk/ase/), but the first few exercises below will teach you many of the elements of ASE you will need for this project. If running on your own computer, also try to install the ```matscipy``` package (which needs a working C++ compiler), if that is successful your simulations will be much faster. \n",
    "\n",
    "The entire exercise (appart from the optional extension) can be completed in Deepnote directly. All the dependancies are installed. If you want to use your own Python environment on your own computer such as [Anaconda](http://anaconda.org), this is also feasible, but requires the installation of a few packages. Deepnote also lets you install any additional desired pacakged. You can open a text terminal (console) to the virtual machine it is running on, so you can execute all the ! commands directly on the console. \n",
    "\n",
    "The ```!pip install ase``` and ```!pip install matscipy``` commands also work in an ```anaconda``` Python console or a Jupyter notebook that is running on your own computer, or without the \"!\" in a normal command terminal. \n",
    "\n",
    "_Note: There are several files associated with this notebook, both images and python code (e.g. Morse.py), make sure they are in the same folder as this notebook._\n",
    "\n",
    "_There is also a Morse module inside ASE (under ```ase.calculators```), but that is not implemented correctly (at the time of writing), so make sure below that you import the one that is supplied here and saved in the current directory._\n",
    "\n",
    "Please make sure all your results (eg. plots, code output) are visible before the marking session. This is much easier if you run a notebook rather than  individual scripts. \n",
    "\n",
    "##### Notes for various operating systems\n",
    "\n",
    "* On Mac OS, it is recommended that you do not work with the Python supplied by Apple, but get your own, e.g. Anaconda, or use Homebrew. \n",
    "\n",
    "* On Windows, you will need MS Visual C++ in order to use the matscipy package (MSVC++ version 14 for use with Python versions > 3.5). Windows is difficult from the point of view of scientific computing, and you may not be able to install matscipy in the end. The lab can be done without it. \n",
    "\n",
    "* If you are working on the Linux workstations in the Department,  see [this page](http://www-h.eng.cam.ac.uk/help/languages/python/pythonatcued.html) on how to install new Python packages for yourself.  \n",
    "\n",
    "## Software Engineering\n",
    "\n",
    "Much of this lab is about the *application* of programming in order to model engineering problem, rather than learning new programming skills. Use the techniques that you learned in the [Part IA Lent Computing Exercise](http://cued-partia-flood-warning.readthedocs.io/en/latest/index.html), and review them before you start if necessary. In particular:\n",
    "\n",
    "- The first half of the exercise is to be done in this notebook right here.  \n",
    "- Please use Python 3 rather than earlier versions.\n",
    "- Keep to the good code documentation practices you learned in Part IA.\n",
    "\n",
    "It will be assumed from now on that you know how to use these tools. \n",
    "\n",
    "\n",
    "## Materials and structural engineering\n",
    "\n",
    "Since the topic of this exercise is the response of matter to loading, it will be beneficial if you review the related concepts in the IA Materials and Structures courses, particularly on _stress_, _strain_, _bulk modulus_, _shear modulus_, _Poisson ratio_, and _dislocations_."
   ]
  },
  {
   "cell_type": "markdown",
   "metadata": {
    "cell_id": "3269949536c64259b6b92918d406a87a",
    "deepnote_cell_height": 3366.390625,
    "deepnote_cell_type": "markdown"
   },
   "source": [
    "## Learning objectives and assessment\n",
    "\n",
    "### Learning objectives\n",
    "\n",
    "\n",
    "#### Scientific Computing\n",
    "\n",
    "- Making connections between abstract concepts of elastic deformation and numerical representations in a compute model\n",
    "- Ability to calculate elastic properties of materials numerically using an atomistic model\n",
    "- Identifying atomic scale processes underlying plastic deformation via dislocation nucleation and glide \n",
    "\n",
    "#### Computer skills\n",
    "\n",
    "- Effective use of python programming, as developed in Part IA\n",
    "- Appropriate use of NumPy arrays, functions, Python classes, class members and member functions. \n",
    "\n",
    "\n",
    "### Assessment guidelines\n",
    "\n",
    "The following criteria will be used in assessing your implementation. Markers will want to view your Notebook for the graphs, elasticity calculations and hear your interpretation of the results.\n",
    "\n",
    "Your Notebook should display an understanding of the basic aspects of materials engineering involved. Your results should have the correct units, plots have axes correctly labeled. \n",
    "\n",
    "#### Code\n",
    "\n",
    "- Your notebook and programs should execute without error.\n",
    "- Programs should be correct and achieve the specified deliverables.\n",
    "- Numerical results should be printed with notes on what they represent, and appropriate units. \n",
    "- Clarity and structure of the code implementations.\n",
    "- Re-use of functions and python objects where appropriate.\n",
    "- Documentation of your functions, and comments in the Notebook and standalone code to enhance readability\n"
   ]
  },
  {
   "cell_type": "markdown",
   "metadata": {
    "cell_id": "1768442494ad44c1b48b66486d2ada65",
    "deepnote_cell_height": 567.15625,
    "deepnote_cell_type": "markdown"
   },
   "source": [
    "## Deliverables and Deadlines\n",
    "\n",
    "The rest of this notebook contains background information that you need to understand the exercise, bits of example code that teaches you how to use the ASE package, and __specific deliverables (marked in bold)__ that you need to present to the markers. "
   ]
  },
  {
   "cell_type": "markdown",
   "metadata": {
    "cell_id": "3aa013b8e82b482bb4db7812416900b5",
    "deepnote_cell_height": 948.328125,
    "deepnote_cell_type": "markdown"
   },
   "source": [
    "We start with basic usage of ASE, computation of the elastic properties of a single crystal of copper. Do the tasks right here in this notebook. Bring the completed notebook to the a marking session. Do the exercise in your own time, but make sure you get marked by the demonstrators in the DPO by your allocated deadline, which is given for your lab group in the rota. There is a list of marking dates and times [here](https://deepnote.com/project/IB-Laboratory-M3-Materials-modelling-AqUdtvyXQVG1F2SCyP33lA/%2FM3_schedule_Lent.pdf), but these are just the final deadlines, you can get marked ahead of time by emailing the demonstrators, found on the Moodle page. "
   ]
  },
  {
   "cell_type": "markdown",
   "metadata": {
    "cell_id": "faf109f36af94a6f9bbe81445be221d4",
    "deepnote_cell_height": 2132.484375,
    "deepnote_cell_type": "markdown"
   },
   "source": [
    "### Task 1\n",
    "\n",
    "You are going to use a simple model to describe the interaction of atoms, called the \"Morse potential\", \n",
    "which assumes that atoms interact with each other pairwise, and the total potential energy of a collection of atoms is\n",
    "\n",
    "$$\n",
    "E_{total} = \\sum_{i \\textrm{\\textgreater} j} V_{M}(r_{ij})\n",
    "$$\n",
    "\n",
    "where the double sum runs over the indices of every pair of atoms (counting every pair only once), $r_{ij}$ is the distance between atoms $i$ and $j$, and the _interaction potential_ is given by\n",
    "\n",
    "$$\n",
    "V_{M}(r) = D \\left[e^{-2\\alpha (r-r_0))} - 2e^{-\\alpha (r-r_0))} \\right]\n",
    "$$\n",
    "\n",
    "There are three adjustable parameters in this model. You can think of $D$ as fixing the energy scale of the model, $r_0$ as fixing the distance between neighbouring atoms, and $\\alpha$ as fixing the length scale over which the interaction between atoms decays (in inverse length units). \n",
    "\n",
    "In the small scale world of atoms, it is convenient to measure energies in _electron Volts_ (eV), with 1 eV $\\approx 1.6 \\times 10^{-19}~$J, and distances in _Ångstroms_ (Å), with 1 Å = $10^{-10}~$m, and these are the intrinsic units of ASE. All other derived units follow from this, e.g. forces are in eV/Å, stresses are in eV/Å$^3$. ASE provides the constant ```GPa``` that can be used to convert pressures and stresses from eV/Å$^3$ into GPa units. "
   ]
  },
  {
   "cell_type": "markdown",
   "metadata": {
    "cell_id": "79fa775b71234c4cab0a87c72ebadc6d",
    "deepnote_cell_height": 209.1875,
    "deepnote_cell_type": "markdown"
   },
   "source": [
    "Here is how to create an object that represents just two copper atoms with a distance 2.5 Å between them:"
   ]
  },
  {
   "cell_type": "code",
   "execution_count": 6,
   "metadata": {
    "cell_id": "e726cadf3aa345548081f76542f29aee",
    "deepnote_cell_type": "code",
    "deepnote_to_be_reexecuted": false,
    "execution_millis": 226,
    "execution_start": 1709999676977,
    "output_cleared": false,
    "source_hash": "b44ed3ab"
   },
   "outputs": [],
   "source": [
    "from __future__ import print_function\n",
    "import numpy as np\n",
    "from ase import Atoms\n",
    "from ase.units import eV, Ang, GPa\n",
    "d = 2.5*Ang\n",
    "a = Atoms('2Cu', positions=[(0., 0., 0.), (0., 0., d)])"
   ]
  },
  {
   "cell_type": "markdown",
   "metadata": {
    "cell_id": "850244528d6749bda6956c6592272c39",
    "deepnote_cell_height": 186.78125,
    "deepnote_cell_type": "markdown"
   },
   "source": [
    "The ```positions``` array contains the x, y, z coordinates of each atom, in that order. "
   ]
  },
  {
   "cell_type": "markdown",
   "metadata": {
    "cell_id": "5eec6e60206546c4a78aa4248f1d1ff1",
    "deepnote_cell_height": 522.765625,
    "deepnote_cell_type": "markdown"
   },
   "source": [
    "Now attach a ```calculator``` (ASE-speak for a model that can compute energies, forces and stresses on atoms) to this object, and compute its potential energy. (Any time you create a new atoms object, you need to set its calculator, but you can reuse the same calculator object)"
   ]
  },
  {
   "cell_type": "code",
   "execution_count": 7,
   "metadata": {
    "cell_id": "43c56c7eff49433fa717bb16139c604e",
    "deepnote_cell_type": "code",
    "deepnote_to_be_reexecuted": false,
    "execution_millis": 257,
    "execution_start": 1709999676978,
    "output_cleared": false,
    "source_hash": "4b7aa838"
   },
   "outputs": [
    {
     "data": {
      "text/plain": [
       "-0.14929402163819286"
      ]
     },
     "execution_count": 7,
     "metadata": {},
     "output_type": "execute_result"
    }
   ],
   "source": [
    "import sys\n",
    "sys.path.append(r'files')\n",
    "import Morse\n",
    "calc = Morse.MorsePotential()\n",
    "\n",
    "a.set_calculator(calc) \n",
    "a.get_potential_energy()"
   ]
  },
  {
   "cell_type": "markdown",
   "metadata": {
    "cell_id": "bfceedfc52ca42f0b4db541e3c609bad",
    "deepnote_cell_height": 231.578125,
    "deepnote_cell_type": "markdown"
   },
   "source": [
    "Changing the position of the second atom allows the evaluation of the potential energy as a function of distance"
   ]
  },
  {
   "cell_type": "code",
   "execution_count": 8,
   "metadata": {
    "cell_id": "c40da3b6eaa943749f96e0600fc8b965",
    "deepnote_cell_height": 156,
    "deepnote_cell_type": "code",
    "deepnote_output_heights": [
     39.390625
    ],
    "deepnote_to_be_reexecuted": false,
    "execution_millis": 49,
    "execution_start": 1709999677241,
    "output_cleared": false,
    "source_hash": "f5abf7c7"
   },
   "outputs": [
    {
     "data": {
      "text/plain": [
       "array([[0. , 0. , 0. ],\n",
       "       [0. , 0. , 2.5]])"
      ]
     },
     "execution_count": 8,
     "metadata": {},
     "output_type": "execute_result"
    }
   ],
   "source": [
    " p = a.get_positions()\n",
    "p"
   ]
  },
  {
   "cell_type": "code",
   "execution_count": 9,
   "metadata": {
    "cell_id": "504a5ad2b90f409e93b62fd2677018e1",
    "deepnote_cell_height": 156,
    "deepnote_cell_type": "code",
    "deepnote_output_heights": [
     39.390625
    ],
    "deepnote_to_be_reexecuted": false,
    "execution_millis": 44,
    "execution_start": 1709999677247,
    "output_cleared": false,
    "source_hash": "edfe290c"
   },
   "outputs": [
    {
     "data": {
      "text/plain": [
       "array([[0. , 0. , 0. ],\n",
       "       [0. , 0. , 2.8]])"
      ]
     },
     "execution_count": 9,
     "metadata": {},
     "output_type": "execute_result"
    }
   ],
   "source": [
    "p[1,2] = 2.8\n",
    "p"
   ]
  },
  {
   "cell_type": "code",
   "execution_count": 10,
   "metadata": {
    "cell_id": "35fc8b327c9f4248ae0c5a39174a2efe",
    "deepnote_cell_height": 136,
    "deepnote_cell_type": "code",
    "deepnote_output_heights": [
     20.1875
    ],
    "deepnote_to_be_reexecuted": false,
    "execution_millis": 175,
    "execution_start": 1709999677305,
    "output_cleared": false,
    "source_hash": "29055bb2"
   },
   "outputs": [
    {
     "data": {
      "text/plain": [
       "-0.1451042133708922"
      ]
     },
     "execution_count": 10,
     "metadata": {},
     "output_type": "execute_result"
    }
   ],
   "source": [
    "a.set_positions(p)\n",
    "a.get_potential_energy()"
   ]
  },
  {
   "cell_type": "markdown",
   "metadata": {
    "cell_id": "be765e87cdf34efc942b6a108332afc4",
    "deepnote_cell_height": 186.78125,
    "deepnote_cell_type": "markdown"
   },
   "source": [
    "You can also manipulate the positions of the atoms directly by access the array inside the ```Atoms``` object:"
   ]
  },
  {
   "cell_type": "code",
   "execution_count": 11,
   "metadata": {
    "cell_id": "bd68121c928e49f5b97a3254cfc6f11b",
    "deepnote_cell_height": 156,
    "deepnote_cell_type": "code",
    "deepnote_output_heights": [
     39.390625
    ],
    "deepnote_to_be_reexecuted": false,
    "execution_millis": 165,
    "execution_start": 1709999677316,
    "output_cleared": false,
    "source_hash": "93fdeeca"
   },
   "outputs": [
    {
     "data": {
      "text/plain": [
       "array([[0. , 0. , 0. ],\n",
       "       [0. , 0. , 2.9]])"
      ]
     },
     "execution_count": 11,
     "metadata": {},
     "output_type": "execute_result"
    }
   ],
   "source": [
    "a.positions[1,2] = 2.9\n",
    "a.get_positions()"
   ]
  },
  {
   "cell_type": "markdown",
   "metadata": {
    "cell_id": "962428568b774d44b233b5eda9cc09fb",
    "deepnote_cell_height": 522.765625,
    "deepnote_cell_type": "markdown"
   },
   "source": [
    "The forces exerted by the atoms on one another can be obtained analogously. Remember that the force is the negative of the 3-dimensional gradient vector of the potential energy. (But there is no directly accessible array in the ```Atoms``` object that holds the forces, you have to use the function call)"
   ]
  },
  {
   "cell_type": "code",
   "execution_count": 12,
   "metadata": {
    "cell_id": "e7ae98cab92c4a6b82426ad24e1a2757",
    "deepnote_cell_height": 156,
    "deepnote_cell_type": "code",
    "deepnote_output_heights": [
     39.390625
    ],
    "deepnote_to_be_reexecuted": false,
    "execution_millis": 158,
    "execution_start": 1709999677323,
    "output_cleared": false,
    "source_hash": "a9e00b56"
   },
   "outputs": [
    {
     "data": {
      "text/plain": [
       "array([[ 0.        ,  0.        ,  0.16719099],\n",
       "       [ 0.        ,  0.        , -0.16719099]])"
      ]
     },
     "execution_count": 12,
     "metadata": {},
     "output_type": "execute_result"
    }
   ],
   "source": [
    "f = a.get_forces()\n",
    "f"
   ]
  },
  {
   "cell_type": "markdown",
   "metadata": {
    "cell_id": "e6031fc9fa224381a244547c6d5ae3e5",
    "deepnote_cell_height": 1194.125,
    "deepnote_cell_type": "markdown"
   },
   "source": [
    "### Deliverable 1\n",
    "\n",
    "Write a function that computes the Morse potential energy for two atoms for a given distance between them, and use it to:\n",
    "1. __Create a plot of the energy against distance. Now do the same for the the force exerted by one atom on the other.__\n",
    "\n",
    "2. __What is the distance between the two atoms corresponding to the lowest potential energy ?__\n",
    "\n",
    "Hint: You can create an array of distances, and for each one create the Atoms object and compute the potential energy and forces. Make sure to use a sensible range of distances - if atoms are too close, the plot will be dominated by the repulsive interaction. "
   ]
  },
  {
   "cell_type": "code",
   "execution_count": 13,
   "metadata": {},
   "outputs": [],
   "source": [
    "import matplotlib.pyplot as plt\n",
    "\n",
    "# find energy between two atoms of distance d Angstroms apart\n",
    "def find_energy(d):\n",
    "    d = d*Ang\n",
    "    a = Atoms('2Cu', positions=[(0., 0., 0.), (0., 0., d)])\n",
    "    calc = Morse.MorsePotential()\n",
    "    a.set_calculator(calc) \n",
    "    return (a.get_potential_energy())"
   ]
  },
  {
   "cell_type": "code",
   "execution_count": 14,
   "metadata": {},
   "outputs": [
    {
     "data": {
      "image/png": "[encoded data removed]",
      "text/plain": [
       "<Figure size 640x480 with 1 Axes>"
      ]
     },
     "metadata": {},
     "output_type": "display_data"
    },
    {
     "data": {
      "image/png": "[encoded data removed]",
      "text/plain": [
       "<Figure size 640x480 with 1 Axes>"
      ]
     },
     "metadata": {},
     "output_type": "display_data"
    }
   ],
   "source": [
    "#Question 1 \n",
    "#Part a -> plot the energy against distance\n",
    "\n",
    "d = 0.001 #step size for iteration\n",
    "a = 2.4 #starting distance\n",
    "b = 7 #ending distance\n",
    "\n",
    "def find_energy_array(a, b, d): #generates a list of energies for distances from a to b Angstroms split into d sized steps\n",
    "    D = np.arange(a, b, d)\n",
    "    E = np.zeros(len(D))\n",
    "    for i in range(len(D)):\n",
    "        E[i] = find_energy(D[i])\n",
    "    return (D, E)\n",
    "\n",
    "def plot_energy(D, E): #plots the energies generated\n",
    "    plt.plot(D,E)\n",
    "    plt.title(\"PE vs distance between atoms\")\n",
    "    plt.xlabel(\"Distance between atoms in Angstrom\")\n",
    "    plt.ylabel(\"Potential Energy in eV\")\n",
    "    plt.show()\n",
    "\n",
    "#Part b -> plot the force against distance\n",
    "\n",
    "def find_force(d): #find force between two atoms of distance d Angstroms apart\n",
    "    d = d*Ang\n",
    "    a = Atoms('2Cu', positions=[(0., 0., 0.), (0., 0., d)])\n",
    "    calc = Morse.MorsePotential()\n",
    "    a.set_calculator(calc) \n",
    "    return (a.get_forces()[0,2])\n",
    "\n",
    "def find_force_array(a, b, d): #generates a list of forces for distances from a to b Angstroms split into d sized steps\n",
    "    D = np.arange(a, b, d)\n",
    "    F = np.zeros(len(D))\n",
    "    for i in range(len(D)):\n",
    "        F[i] = find_force(D[i])\n",
    "    return (D, F)\n",
    "\n",
    "def plot_force(D,F): #plots the forces generated \n",
    "    plt.plot(D,F)\n",
    "    plt.title(\"Force vs distance between atoms\")\n",
    "    plt.xlabel(\"Distance between atoms in Angstrom\")\n",
    "    plt.ylabel(\"Force between atoms in eV/Angstrom\")\n",
    "    plt.show()\n",
    "\n",
    "#find D the array of distances, E the array of energies and F the array of forces\n",
    "(D, E) = find_energy_array(a, b, d)\n",
    "(D, F) = find_force_array(a, b, d)\n",
    "#plot E and F against D\n",
    "plot_energy(D, E)\n",
    "plot_force(D, F)\n"
   ]
  },
  {
   "cell_type": "code",
   "execution_count": 15,
   "metadata": {},
   "outputs": [
    {
     "name": "stdout",
     "output_type": "stream",
     "text": [
      "The distance at which there is minimum potential energy is 2.615999999999976 Angstroms\n"
     ]
    }
   ],
   "source": [
    "#Question 2\n",
    " \n",
    "x = np.argmin(E)\n",
    "print(\"The distance at which there is minimum potential energy is %s Angstroms\" % D[x])"
   ]
  },
  {
   "cell_type": "markdown",
   "metadata": {
    "cell_id": "ddb33d669904441cae796ed37b2f14d0",
    "deepnote_cell_height": 1296.71875,
    "deepnote_cell_type": "markdown"
   },
   "source": [
    "### Task and Deliverable 2 \n",
    "\n",
    "1. __Write a _unit test_ that verifies that the forces returned by the ```get_forces()``` function is really the negative gradient of the energy (as returned by the ```get_potential_energy()``` function) with respect to the atomic positions. Do this by comparing the forces returned by ```get_forces()``` to those obtained by numerical finite differences of energies between two sets of atomic positions, displaced by small amount.__\n",
    "\n",
    "2. __Experiment with different values of $\\epsilon$ and look at how accurate the approximation is as a function of $\\epsilon$.__\n",
    "\n",
    "3. __What goes wrong if you make $\\epsilon$ too small?__"
   ]
  },
  {
   "cell_type": "markdown",
   "metadata": {
    "cell_id": "f32edb39f3324272afe9aef3f3a01cad",
    "deepnote_cell_height": 1215.90625,
    "deepnote_cell_type": "markdown"
   },
   "source": [
    "Hint:\n",
    "\n",
    "Use the idea of the definition of the gradient and its relation to the Taylor expansion:\n",
    "\n",
    "$$\n",
    "\\nabla f(x) \\approx \\frac{f(x+\\epsilon)-f(x)}{\\epsilon}\n",
    "$$\n",
    "\n",
    "With just two atoms in the \"system\", you can treat the energy and force as just functions of a scalar variable, the distance between the two atoms. More generally, both the energy and the forces are functions of many atomic coordinates, which we can collect into a vector $\\bf{R}$, so the truncated Taylor expansion takes the form:\n",
    "\n",
    "$$\n",
    "\\nabla f({\\bf R})\\cdot {\\bf d} \\approx \\frac{f ({\\bf R}+\\epsilon {\\bf d} )-f({\\bf R})}{\\epsilon}\n",
    "$$\n",
    "\n",
    "where ${\\bf d}$ is the vector representing a small displacement. \n",
    "\n",
    "A graph is a good way to examine how the size of epsilon translates to the accuracy (error) of the approximation.\n"
   ]
  },
  {
   "cell_type": "code",
   "execution_count": 16,
   "metadata": {},
   "outputs": [
    {
     "name": "stdout",
     "output_type": "stream",
     "text": [
      "For x = 4 and epsilon = 0.0000001:\n",
      "The force calculated from the gradient of the energy is 0.035305 eV/Angstrom\n",
      "The force found using the find_forces function is 0.035306 eV/Angstrom\n",
      "Ratio of force found using gradient of energy to that found from find_forces is: 0.999990\n"
     ]
    }
   ],
   "source": [
    "#Question 1\n",
    "\n",
    "x = 4\n",
    "ep = 0.00001\n",
    "\n",
    "#approximate the force at x displacement with an epsilon value of ep\n",
    "def get_force_from_energy(x, ep):\n",
    "    e1 = find_energy(x)\n",
    "    e2 = find_energy(x+ep)\n",
    "    return (e2 - e1) / ep\n",
    "    \n",
    "force_from_energy = get_force_from_energy(x, ep)\n",
    "force_from_get_forces = find_force(D[int((x - a) / d)])\n",
    "\n",
    "print(\"For x = 4 and epsilon = 0.0000001:\")\n",
    "print(\"The force calculated from the gradient of the energy is %f eV/Angstrom\" % force_from_energy)\n",
    "print(\"The force found using the find_forces function is %f eV/Angstrom\" % force_from_get_forces)\n",
    "print(\"Ratio of force found using gradient of energy to that found from find_forces is: %f\" % (force_from_energy/force_from_get_forces))"
   ]
  },
  {
   "cell_type": "code",
   "execution_count": 17,
   "metadata": {},
   "outputs": [
    {
     "data": {
      "image/png": "[encoded data removed]",
      "text/plain": [
       "<Figure size 640x480 with 1 Axes>"
      ]
     },
     "metadata": {},
     "output_type": "display_data"
    }
   ],
   "source": [
    "#Question 2\n",
    "\n",
    "#from question one, it's clear that error reduces as epsilon gets smaller, but begins to have an error if it gets too small\n",
    "\n",
    "n = 10000 #n steps\n",
    "b = 1 #highest epsilon value\n",
    "\n",
    "X = np.arange(1/n, 1+1/n, 1/n) #create array of values from 1 to n in steps of 1\n",
    "error = np.zeros(n) #error is force from gradient of energy - force from find_force\n",
    "\n",
    "force = find_force(D[int((x - a) / d)])\n",
    "for i in range(n):\n",
    "    error[i] = get_force_from_energy(x, X[i]) - force\n",
    "\n",
    "plt.plot(X, error)\n",
    "plt.title(\"error between force from gradient of energy and force from find_force function\")\n",
    "plt.xlabel(\"epsilon in Angstrom\")\n",
    "plt.ylabel(\"error in eV/Angstrom\")\n",
    "plt.show()\n",
    "\n",
    "#clearly a lower value of epsilon reduces error"
   ]
  },
  {
   "cell_type": "code",
   "execution_count": 18,
   "metadata": {},
   "outputs": [
    {
     "name": "stdout",
     "output_type": "stream",
     "text": [
      "error with epsilon = 1E-3 is -0.000035 eV/Angstrom\n",
      "error with epsilon = 1E-5 is -0.000000 eV/Angstrom\n",
      "error with epsilon = 1E-7 is 0.000006 eV/Angstrom\n",
      "error with epsilon = 1E-9 is -0.035306 eV/Angstrom\n",
      "If epsilon is too small, rounding errors will occur causing the error in force to actually increase\n"
     ]
    }
   ],
   "source": [
    "#Question 3\n",
    "\n",
    "#error with epsilon = 1E-3\n",
    "error1 = get_force_from_energy(x, 0.001) - force\n",
    "print(\"error with epsilon = 1E-3 is %f eV/Angstrom\" % error1)\n",
    "\n",
    "#error with epsilon = 1E-6\n",
    "error2 = get_force_from_energy(x, 0.000001) - force\n",
    "print(\"error with epsilon = 1E-5 is %f eV/Angstrom\" % error2)\n",
    "\n",
    "#error with epsilon = 1E-12\n",
    "error3 = get_force_from_energy(x, 0.000000000001) - force\n",
    "print(\"error with epsilon = 1E-7 is %f eV/Angstrom\" % error3)\n",
    "\n",
    "#error with epsilon = 1E-24\n",
    "error4 = get_force_from_energy(x, 0.000000000000000000000001) - force\n",
    "print(\"error with epsilon = 1E-9 is %f eV/Angstrom\" % error4)\n",
    "\n",
    "print(\"If epsilon is too small, rounding errors will occur causing the error in force to actually increase\")"
   ]
  },
  {
   "cell_type": "markdown",
   "metadata": {
    "cell_id": "6d1bf6f3624e4c2f85cd5ef26ae41944",
    "deepnote_cell_height": 2547.421875,
    "deepnote_cell_type": "markdown"
   },
   "source": [
    "### Task 3\n",
    "\n",
    "_Create a cubic unit cell of the Cu crystal, and extract some of its properties._\n",
    "\n",
    "In order to investigate the properties of bulk copper, we need to model a large number of atoms. But evaluating the total potential energy of a large number of atoms takes a long time, and so we need a shortcut. In fact many simple properties of a crystalline solid can be evaluated by just considering its _unit cell_, i.e. the smallest repeating unit from which the crystal is made. This is typically true for static properties that do not depend on atoms experiencing a variety of neighbour environments, i.e. in the absence of _defects_. Such properties include the _lattice constant_ (i.e. the density), the _equation of state_, the _elastic constants_ (including the _bulk modulus_), the _Poisson ratio_, etc. \n",
    "\n",
    "The trick is to _assume_ that the atoms are arranged in perfect crystalline order, and only explicitly consider those atoms that are in a single unit cell. In order to correctly evaluate the energy, the _effect_ of atoms in neighbouring unit cells needs to be included, but this can be done by using [_periodic boundary conditions_](https://en.wikipedia.org/wiki/Periodic_boundary_conditions). The page behind the link is rather detailed, but think about the Fourier Series from IA maths, which was applicable to periodic functions, but you only ever had to consider the function values over a single period. This is similar. \n",
    "\n",
    "In the image below, the blue shaded area is the unit cell, its sides are the lattice vectors that generate the periodic images. "
   ]
  },
  {
   "cell_type": "markdown",
   "metadata": {
    "cell_id": "a8c8744438c64001a5a265b993a0a079",
    "deepnote_cell_height": 70,
    "deepnote_cell_type": "markdown"
   },
   "source": [
    "![Periodic cells](./files/unitcell2.png)"
   ]
  },
  {
   "cell_type": "markdown",
   "metadata": {
    "cell_id": "36d92180f7524678ba2d63c9a027d26d",
    "deepnote_cell_height": 343.578125,
    "deepnote_cell_type": "markdown"
   },
   "source": [
    "More complicated properties, such as the _yield stress_, or those of more complicated materials such as _polycrystalline solids_ cannot be extracted from such small unit cells."
   ]
  },
  {
   "cell_type": "markdown",
   "metadata": {
    "cell_id": "01d7e1112cc94aebbf7a5d5ad0341bc9",
    "deepnote_cell_height": 365.96875,
    "deepnote_cell_type": "markdown"
   },
   "source": [
    "The crystal structure of Cu is face centered cubic, and ASE provides convenient constructors which assume periodic boundary conditions, unless instructed otherwise:"
   ]
  },
  {
   "cell_type": "code",
   "execution_count": 19,
   "metadata": {
    "cell_id": "270ce3715e3041b68acc21345edb9c8d",
    "deepnote_cell_height": 84,
    "deepnote_cell_type": "code",
    "deepnote_to_be_reexecuted": false,
    "execution_millis": 151,
    "execution_start": 1709999677330,
    "output_cleared": false,
    "source_hash": "730d73d3"
   },
   "outputs": [],
   "source": [
    "from ase.build import bulk\n",
    "cu = bulk(\"Cu\", \"fcc\", a=3.6, cubic=True)"
   ]
  },
  {
   "cell_type": "markdown",
   "metadata": {
    "cell_id": "dd43930fd49c49d4bf08a2baf54d9463",
    "deepnote_cell_height": 70,
    "deepnote_cell_type": "markdown"
   },
   "source": [
    "![cu](./files/cu.png)"
   ]
  },
  {
   "cell_type": "markdown",
   "metadata": {
    "cell_id": "c49fad08a9ca4fb8a666aa809cbf8162",
    "deepnote_cell_height": 1759.671875,
    "deepnote_cell_type": "markdown"
   },
   "source": [
    "Although the smallest possible unit cell of an fcc crystal contains just one atom, it is often more convenient to work with the \"cubic unit cell\" which contains 4 atoms, but whose lattice vectors (which represent the displacements that correspond to the periodically repeating units) are just the sides of a cube, i.e. orthogonal and correspond to the x, y, and z axes. The size of the lattice vectors determine the volume of the unit cell and the corresponding density of material modelled. \n",
    "\n",
    "The fcc crystal you have seen before probably show an atom in each face of the cubic unit cell - but many of those are repeated periodic images of the ones shown above!\n",
    "\n",
    "In ASE, the lattice vectors are stored, side-by-side, collected together in a 3x3 matrix called _cell_. So, the first column is the first lattice vector ($L_1$), the second column is the second lattice vector($L_2$), and the third column is the third lattice vector ($L_3$).\n",
    "\n",
    "$$\n",
    "\\left[ \\begin{matrix} L_{1x} &L_{2x} &L_{3x}\\\\ L_{1y} &L_{2y}&L_{3y}\\\\ L_{1z} &L_{2z}&L_{3z} \\end{matrix}\\right]\n",
    "$$"
   ]
  },
  {
   "cell_type": "code",
   "execution_count": 20,
   "metadata": {
    "cell_id": "b6d192b62d0d4f04ad2544b0e02694cc",
    "deepnote_cell_height": 113,
    "deepnote_cell_type": "code",
    "deepnote_output_heights": [
     20.1875
    ],
    "deepnote_to_be_reexecuted": false,
    "execution_millis": 197,
    "execution_start": 1709999677352,
    "output_cleared": false,
    "source_hash": "ee4d0193",
    "tags": []
   },
   "outputs": [
    {
     "data": {
      "text/plain": [
       "Cell([3.6, 3.6, 3.6])"
      ]
     },
     "execution_count": 20,
     "metadata": {},
     "output_type": "execute_result"
    }
   ],
   "source": [
    "cu.cell"
   ]
  },
  {
   "cell_type": "markdown",
   "metadata": {
    "cell_id": "61ad14981be841239e2e845d24ae5b2f",
    "deepnote_cell_height": 209.1875,
    "deepnote_cell_type": "markdown",
    "tags": []
   },
   "source": [
    "This returned a \"Cell object\", if we want to see the actual cell vectors, we need to convert it to an array."
   ]
  },
  {
   "cell_type": "code",
   "execution_count": 21,
   "metadata": {
    "cell_id": "d8552c0037ec41b290bebee43f8381c1",
    "deepnote_cell_height": 157,
    "deepnote_cell_type": "code",
    "deepnote_output_heights": [
     58.578125
    ],
    "deepnote_to_be_reexecuted": false,
    "execution_millis": 192,
    "execution_start": 1709999677357,
    "output_cleared": false,
    "source_hash": "c0aacd09"
   },
   "outputs": [
    {
     "data": {
      "text/plain": [
       "array([[3.6, 0. , 0. ],\n",
       "       [0. , 3.6, 0. ],\n",
       "       [0. , 0. , 3.6]])"
      ]
     },
     "execution_count": 21,
     "metadata": {},
     "output_type": "execute_result"
    }
   ],
   "source": [
    "np.array(cu.cell)"
   ]
  },
  {
   "cell_type": "markdown",
   "metadata": {
    "cell_id": "c1177743b7dd49bd852d17db57d75f73",
    "deepnote_cell_height": 298.78125,
    "deepnote_cell_type": "markdown"
   },
   "source": [
    "There are indeed 4 atoms in this unit cell, with positions corresponding to the origin, and the centers of the sides of the unit cube on the YZ, ZX and XY planes:"
   ]
  },
  {
   "cell_type": "code",
   "execution_count": 22,
   "metadata": {
    "cell_id": "67c6c668115f46c6b5b42cfdc847abf6",
    "deepnote_cell_height": 176,
    "deepnote_cell_type": "code",
    "deepnote_output_heights": [
     77.78125
    ],
    "deepnote_to_be_reexecuted": false,
    "execution_millis": 176,
    "execution_start": 1709999677373,
    "output_cleared": false,
    "source_hash": "4456ecfc"
   },
   "outputs": [
    {
     "data": {
      "text/plain": [
       "array([[0. , 0. , 0. ],\n",
       "       [0. , 1.8, 1.8],\n",
       "       [1.8, 0. , 1.8],\n",
       "       [1.8, 1.8, 0. ]])"
      ]
     },
     "execution_count": 22,
     "metadata": {},
     "output_type": "execute_result"
    }
   ],
   "source": [
    "cu.get_positions()"
   ]
  },
  {
   "cell_type": "markdown",
   "metadata": {
    "cell_id": "e1235abba7d042a192c3c2fe676bb595",
    "deepnote_cell_height": 791.546875,
    "deepnote_cell_type": "markdown"
   },
   "source": [
    "Verify that the periodic boundary conditions are implemented correctly by evaluating the potential energy of the unit cell, and comparing the potential energy per atom to that of a larger cell, which is obtained by replicating the original twice in each of the three directions. Since both smaller and larger cells represent an infinite, periodic array of copper atoms, the potential energy per atom should be the same. "
   ]
  },
  {
   "cell_type": "code",
   "execution_count": 23,
   "metadata": {
    "cell_id": "52afaef99a9440f9b893744b06936c3c",
    "deepnote_cell_height": 171.890625,
    "deepnote_cell_type": "code",
    "deepnote_to_be_reexecuted": false,
    "execution_millis": 82,
    "execution_start": 1709999677468,
    "output_cleared": false,
    "source_hash": "ec7c597f"
   },
   "outputs": [
    {
     "name": "stdout",
     "output_type": "stream",
     "text": [
      "Number of atoms:  4\n",
      "Potential energy per atom:  -1.1699071927299534\n"
     ]
    }
   ],
   "source": [
    "cu.set_calculator(calc)\n",
    "print(\"Number of atoms: \", cu.get_global_number_of_atoms())\n",
    "print(\"Potential energy per atom: \", cu.get_potential_energy()/cu.get_global_number_of_atoms())"
   ]
  },
  {
   "cell_type": "code",
   "execution_count": 24,
   "metadata": {
    "cell_id": "a0bff33b75524fe4b2a4881d8d725c1c",
    "deepnote_cell_height": 207.890625,
    "deepnote_cell_type": "code",
    "deepnote_to_be_reexecuted": false,
    "execution_millis": 233,
    "execution_start": 1709999677582,
    "output_cleared": false,
    "source_hash": "c007b88f"
   },
   "outputs": [
    {
     "name": "stdout",
     "output_type": "stream",
     "text": [
      "Number of atoms:  32\n",
      "Potential energy per atom:  -1.1699071927299536\n"
     ]
    }
   ],
   "source": [
    "cu222 = cu.copy()        # creating a copy of an Atoms object\n",
    "cu222.set_calculator(calc) # copying DOES NOT bring the attached calculator, so we need to set it again\n",
    "cu222 *= (2,2,2)         # replicating the unit cell is accomplished by the multiplying operator\n",
    "print(\"Number of atoms: \", cu222.get_global_number_of_atoms())\n",
    "print(\"Potential energy per atom: \", cu222.get_potential_energy()/cu222.get_global_number_of_atoms())"
   ]
  },
  {
   "cell_type": "markdown",
   "metadata": {
    "cell_id": "414cf33919ea4224afc5363a6c3be3db",
    "deepnote_cell_height": 70,
    "deepnote_cell_type": "markdown"
   },
   "source": [
    "![cu222](./files/cu222.png)"
   ]
  },
  {
   "cell_type": "markdown",
   "metadata": {
    "cell_id": "0f4940f0f25a45408031ccdc7f56dd6f",
    "deepnote_cell_height": 253.984375,
    "deepnote_cell_type": "markdown"
   },
   "source": [
    "Strain can be applied to the system by modifying (distorting) the unit cell appropriately. E.g. to apply 1% hydrostatic compression:"
   ]
  },
  {
   "cell_type": "code",
   "execution_count": 25,
   "metadata": {
    "cell_id": "80937504b1e84897a698f7b93bf01a5f",
    "deepnote_cell_height": 172,
    "deepnote_cell_type": "code",
    "deepnote_output_heights": [
     20.1875
    ],
    "deepnote_to_be_reexecuted": false,
    "execution_millis": 63,
    "execution_start": 1709999677820,
    "output_cleared": false,
    "source_hash": "645b33ec"
   },
   "outputs": [
    {
     "data": {
      "text/plain": [
       "Cell([3.564, 3.564, 3.564])"
      ]
     },
     "execution_count": 25,
     "metadata": {},
     "output_type": "execute_result"
    }
   ],
   "source": [
    "cell = cu.get_cell()\n",
    "cell *= 0.99\n",
    "cu.set_cell(cell, scale_atoms=True) # To apply strain, the atomic positions need to be scaled together with the unit cell \n",
    "cu.get_cell()"
   ]
  },
  {
   "cell_type": "code",
   "execution_count": 26,
   "metadata": {
    "cell_id": "5a084058ef294e658c30f4af96aae82e",
    "deepnote_cell_height": 118,
    "deepnote_cell_type": "code",
    "deepnote_output_heights": [
     20.1875
    ],
    "deepnote_to_be_reexecuted": false,
    "execution_millis": 189,
    "execution_start": 1709999677832,
    "output_cleared": false,
    "source_hash": "9871a45"
   },
   "outputs": [
    {
     "name": "stderr",
     "output_type": "stream",
     "text": [
      "/Users/eric/.local/lib/python3.11/site-packages/ase/atoms.py:967: VisibleDeprecationWarning: Use get_global_number_of_atoms() instead\n",
      "  warnings.warn('Use get_global_number_of_atoms() instead',\n"
     ]
    },
    {
     "data": {
      "text/plain": [
       "-1.1657718984261178"
      ]
     },
     "execution_count": 26,
     "metadata": {},
     "output_type": "execute_result"
    }
   ],
   "source": [
    "cu.get_potential_energy()/cu.get_number_of_atoms()"
   ]
  },
  {
   "cell_type": "markdown",
   "metadata": {
    "cell_id": "082d2be2aaef49c9a7f5e8ea7675f4aa",
    "deepnote_cell_height": 231.578125,
    "deepnote_cell_type": "markdown"
   },
   "source": [
    "The stress on the system is given as a matrix, here we get it as a 3x3 matrix (ASE's default is to provide it in [Voigt notation](https://en.wikipedia.org/wiki/Voigt_notation))"
   ]
  },
  {
   "cell_type": "code",
   "execution_count": 27,
   "metadata": {
    "cell_id": "875c2b75eb9a4939882b1b03ae56a0ac",
    "deepnote_cell_height": 157,
    "deepnote_cell_type": "code",
    "deepnote_output_heights": [
     58.578125
    ],
    "deepnote_to_be_reexecuted": false,
    "execution_millis": 22,
    "execution_start": 1709999678027,
    "output_cleared": false,
    "source_hash": "fdbf23ce"
   },
   "outputs": [
    {
     "name": "stderr",
     "output_type": "stream",
     "text": [
      "/Users/eric/.local/lib/python3.11/site-packages/ase/utils/__init__.py:62: FutureWarning: Please use atoms.cell.rank instead\n",
      "  warnings.warn(warning)\n"
     ]
    },
    {
     "data": {
      "text/plain": [
       "array([[-2.33782806e-02,  2.45243296e-18, -7.66385299e-19],\n",
       "       [ 2.45243296e-18, -2.33782806e-02, -5.36469709e-19],\n",
       "       [-7.66385299e-19, -5.36469709e-19, -2.33782806e-02]])"
      ]
     },
     "execution_count": 27,
     "metadata": {},
     "output_type": "execute_result"
    }
   ],
   "source": [
    "cu.get_stress(voigt=False)"
   ]
  },
  {
   "cell_type": "markdown",
   "metadata": {
    "cell_id": "80a4bfaf9ca44a909e3808abc3cc4cc1",
    "deepnote_cell_height": 813.9375,
    "deepnote_cell_type": "markdown"
   },
   "source": [
    "The stress, analogously to the force, is the derivative of the energy with respect to the unit cell vectors (or more precisely, with respect to the deformation strain applied to the unit cell vectors). Note how the off-diagonal elements of the stress matrix above are essentially zero and the diagonal elements are the same, i.e. the stress is the same in the X, Y, and Z directions, corresponding to the 1% hydrostatic compression that we applied above. "
   ]
  },
  {
   "cell_type": "markdown",
   "metadata": {
    "cell_id": "263ed4f335854a50bb07be27a615bde2",
    "deepnote_cell_height": 2029.46875,
    "deepnote_cell_type": "markdown"
   },
   "source": [
    "### Deliverable 3\n",
    "\n",
    "1. __Write a program that calculates and plots the potential energy and pressure (P) of the copper crystal as a function of volume by applying varying amounts of hydrostatic strain.__\n",
    "2. __Calculate the [bulk modulus](https://en.wikipedia.org/wiki/Bulk_modulus) at the equilibrium volume. Compare it to the experimental value.__\n",
    "\n",
    "Hints:\n",
    "\n",
    "- Make sure you use a sensible range of strains, think about what would be reasonable in a real experiment\n",
    "- For the plot, use both compressive and tensile strains. Make sure you plot against the volume, not against the strain itself.\n",
    "- Remember that $K = -V dP/dV$ where $V$ is the volume, and that the pressure is related to the trace of the stress matrix (S), $P = - \\frac{1}{3} \\text{Tr}(S)$.\n",
    "- Do not forget that energy and volume are extensive, so it is best to work with the per-atom quantities.\n",
    "- Do not be surprised that you only get within the experimental value within 20% or so. \n",
    "- The experimental value for Bulk modulus is around 130 - 145 GPa. "
   ]
  },
  {
   "cell_type": "code",
   "execution_count": 37,
   "metadata": {},
   "outputs": [
    {
     "data": {
      "image/png": "[encoded data removed]",
      "text/plain": [
       "<Figure size 640x480 with 1 Axes>"
      ]
     },
     "metadata": {},
     "output_type": "display_data"
    },
    {
     "data": {
      "image/png": "[encoded data removed]",
      "text/plain": [
       "<Figure size 640x480 with 1 Axes>"
      ]
     },
     "metadata": {},
     "output_type": "display_data"
    }
   ],
   "source": [
    "#Question 1\n",
    "\n",
    "#initialise variables\n",
    "a = 3.6\n",
    "d = 0.00001\n",
    "S = np.arange(-0.01, 0.01, d)\n",
    "V = np.zeros(S.size)\n",
    "P = np.zeros(S.size)\n",
    "E = np.zeros(S.size)\n",
    "#create copper crystal\n",
    "cu = bulk(\"Cu\", \"fcc\", a=a, cubic=True)\n",
    "cu.set_calculator(calc)\n",
    "n = cu.get_number_of_atoms()\n",
    "\n",
    "for i in range(S.size):\n",
    "    cell = [(a * (S[i] + 1))]*3\n",
    "    cu.set_cell(cell, scale_atoms=True)\n",
    "    V[i] = (cell[0]*cell[1]*cell[2])/n\n",
    "    E[i] = cu.get_potential_energy()/n\n",
    "    stress = cu.get_stress(voigt=False)\n",
    "    P[i] = -1/3 * np.trace(stress)\n",
    "\n",
    "plt.plot(V, E)\n",
    "plt.title(\"potential energy per atom vs volume\")\n",
    "plt.xlabel(\"volume per atom in Angstrom^3\")\n",
    "plt.ylabel(\"potential energy per atom in eV\")\n",
    "plt.show()\n",
    "\n",
    "plt.plot(V, P)\n",
    "plt.title(\"pressure vs volume\")\n",
    "plt.xlabel(\"volume per atom in Angstrom^3\")\n",
    "plt.ylabel(\"pressure in eV/Angstrom^3\")\n",
    "plt.show()\n"
   ]
  },
  {
   "cell_type": "code",
   "execution_count": 38,
   "metadata": {},
   "outputs": [
    {
     "name": "stdout",
     "output_type": "stream",
     "text": [
      "The equilibrium volume is at 11.692016 Angstrom^3\n",
      "The bulk modulus is 103.807707 GPa\n",
      "The bulk modulus found here is roughly the same as the experimental value\n"
     ]
    }
   ],
   "source": [
    "#Question 2\n",
    "\n",
    "#find equilibrium volume\n",
    "x = np.argmin(E)\n",
    "dpdv = (P[x + 1] - P[x])/(V[x + 1] - V[x])\n",
    "k = - V[x] * dpdv\n",
    "print(\"The equilibrium volume is at %f Angstrom^3\" % (V[x]))\n",
    "print(\"The bulk modulus is %f GPa\" % (k/GPa))\n",
    "print(\"The bulk modulus found here is roughly the same as the experimental value\")"
   ]
  },
  {
   "cell_type": "code",
   "execution_count": 39,
   "metadata": {
    "cell_id": "f61a35a28ce34d439f39fd6f69722f0f",
    "deepnote_cell_height": 264,
    "deepnote_cell_type": "code",
    "deepnote_to_be_reexecuted": false,
    "execution_millis": 115,
    "execution_start": 1709999678042,
    "output_cleared": true,
    "source_hash": "454890d7"
   },
   "outputs": [
    {
     "name": "stdout",
     "output_type": "stream",
     "text": [
      "Bulk modulus:  102.96404758170398 GPa\n"
     ]
    },
    {
     "data": {
      "text/plain": [
       "<Axes: title={'center': 'birchmurnaghan: E: -1.170 eV, V: 11.692 Å$^3$, B: 102.964 GPa'}, xlabel='volume [Å$^3$]', ylabel='energy [eV]'>"
      ]
     },
     "execution_count": 39,
     "metadata": {},
     "output_type": "execute_result"
    },
    {
     "data": {
      "image/png": "[encoded data removed]",
      "text/plain": [
       "<Figure size 640x480 with 1 Axes>"
      ]
     },
     "metadata": {},
     "output_type": "display_data"
    }
   ],
   "source": [
    "# Those who browse the documentation of ASE can discover that it has functionality to fit the equation of state\n",
    "# and extract parameters using more accurate methods. Compare your result above to those computed by ASE. \n",
    "\n",
    "# The call below takes two arrays: the variable V is an array of volumes/atom and E\n",
    "# is an array of corresponding potential energy values, again per atom. If you want to execute this\n",
    "# notebook cell, you will need to substitute your own arrays for V and E.\n",
    "from ase.eos import EquationOfState\n",
    "from ase.units import kJ\n",
    "eos = EquationOfState(V, E, eos=\"birchmurnaghan\") # Birch-Murnaghan is a particular functional form fitted to the equation of state\n",
    "v0, e0, B = eos.fit()\n",
    "print('Bulk modulus: ', B / kJ * 1.0e24, 'GPa')\n",
    "eos.plot()"
   ]
  },
  {
   "cell_type": "markdown",
   "metadata": {
    "cell_id": "9ae8cb2c01514a778e70d5a89b398926",
    "deepnote_cell_height": 3995.71875,
    "deepnote_cell_type": "markdown"
   },
   "source": [
    "### Task and Deliverable 4 \n",
    "\n",
    "1. __Write a program to compute the [shear modulus](https://en.wikipedia.org/wiki/Shear_modulus).__\n",
    "\n",
    "Hint: You can apply a shear in the XY plane by modifying the X component of the lattice vector that points originally in the Y direction, i.e. $L_{2x}$. Apply _small_ amounts of shear, i.e. a few percent. Starting with a cubic cell with side lengths L, new cell matrix, after applying 1% shear in the XY plane, would be given by\n",
    "\n",
    "$$\n",
    "\\left[\\begin{matrix}\n",
    "L & 0.01L & 0\\\\0&L&0\\\\ 0&0&L\n",
    "\\end{matrix}\\right]\n",
    "$$\n",
    "\n",
    "Just as before, in the hydrostatic case, after applying the shear strain in this way, you can get the corresponding (shear) stress simply by calling the ```get_stress()``` function. Observe which components of the stress matrix is nonzero, and think about which one you need to work out the shear modulus. \n",
    "\n",
    "The computed shear modulus of this model deviates from the experimental value by quite a bit more than the bulk modulus - this is typical for such simple models. \n",
    "\n",
    "2. __Write a program to determine the [Poisson ratio](https://en.wikipedia.org/wiki/Poisson%27s_ratio)__\n",
    "\n",
    "Hint: Recall that if the system is strained in the X direction by a normal strain (not shear), the resulting stress will not be purely in the X direction, but in addition to the stress in X there will be stress in the Y and Z directions also. If you now strain the system in an _equibiaxial_ way, so some amount of strain in X, and equal amounts in Y and Z, that is different from the strain in X, the Poisson ratio is the ratio of X and Y(and Z) strains that lead to no stress in the Y (and Z) directions. \n",
    "\n",
    "- Think about the sign of the X strain and the Y(and Z) strains.\n",
    "- Make sure you use a sensible range of strains. \n",
    "- The Poisson ratio depends very sensitively on the starting volume, so make sure you use the unit cell size that corresponds to the lowest energy, accurate to at least 4 decimal places. \n",
    "- You should get a computed value that is within 10% of the experimentally observed one. \n",
    "- The experimental value for Poisson ratio is around 0.34 - 0.36 and around 44 - 49 GPa for the Shear modulus. \n",
    "- Note that ASE results the mathematical shear strain ($\\varepsilon$), not the engineering shear strain ($\\gamma$).\n"
   ]
  },
  {
   "cell_type": "code",
   "execution_count": 41,
   "metadata": {},
   "outputs": [
    {
     "name": "stdout",
     "output_type": "stream",
     "text": [
      "[[3.60288   0.0360288 0.       ]\n",
      " [0.        3.60288   0.       ]\n",
      " [0.        0.        3.60288  ]]\n",
      "The shear modulus is 42.732487 GPa\n"
     ]
    }
   ],
   "source": [
    "#Question 1\n",
    "\n",
    "#set atoms to equilibium\n",
    "l = (a * (S[x] + 1))\n",
    "cell = [l]*3\n",
    "cu.set_cell(cell, scale_atoms=True)\n",
    "\n",
    "#apply shear\n",
    "s = 0.01\n",
    "cell = np.array(cu.get_cell())\n",
    "cell[0][1] = s * cell[0][0]\n",
    "print(cell)\n",
    "cu.set_cell(cell, scale_atoms=True)\n",
    "\n",
    "#calculate shear modulus\n",
    "stress = cu.get_stress(voigt=False)\n",
    "f = stress[0][1]\n",
    "G = f / (cell[0][1] / l)/2\n",
    "print(\"The shear modulus is %f GPa\" % (G/GPa))"
   ]
  },
  {
   "cell_type": "code",
   "execution_count": 32,
   "metadata": {},
   "outputs": [
    {
     "name": "stdout",
     "output_type": "stream",
     "text": [
      "The poissons ratio is 0.371796\n"
     ]
    }
   ],
   "source": [
    "#Question 2\n",
    "\n",
    "#set atoms to equilibium\n",
    "cell = [l]*3\n",
    "cu.set_cell(cell, scale_atoms=True)\n",
    "\n",
    "#apply strain\n",
    "s = 0.01\n",
    "cell = np.array(cu.get_cell())\n",
    "cell[0][0] = (1+s) * cell[0][0]\n",
    "cu.set_cell(cell, scale_atoms=True)\n",
    "\n",
    "#calculate horizontal strain necessary for no stress after vertical strain\n",
    "n = 100\n",
    "lat_stress = np.zeros(n)\n",
    "for i in range(n):\n",
    "    x = i/n*0.001\n",
    "    cell = np.array(cu.get_cell())\n",
    "    cell[1][1] = (1-x) * l\n",
    "    cell[2][2] = (1-x) * l\n",
    "    cu.set_cell(cell, scale_atoms=True)\n",
    "    lat_stress[i] = cu.get_stress(voigt=False)[1][1]\n",
    "    \n",
    "i = np.argmin(lat_stress**2)\n",
    "print(\"The poissons ratio is %f\" % (lat_stress[i]/s))\n"
   ]
  },
  {
   "cell_type": "markdown",
   "metadata": {
    "cell_id": "2729dc18a8804b02b2ac3e57204ce048",
    "deepnote_cell_height": 2545.625,
    "deepnote_cell_type": "markdown"
   },
   "source": [
    "#### Comparison to experiment\n",
    "\n",
    "You will note that there are significant discrepancies from the experimental values of the elastic properties. Some of this is due to the simplicity of the Morse potential, but not all of it. \n",
    "\n",
    "- The simple calculations you did apply to a \"single crystal\" of the material, where we assume that the entire extent of the material is just periodic copies of the same unit cell. In reality a typical piece of copper would have many grains, each of which are single crystals, but they are oriented randomly, so anything you measure on the sample is a rotationally averaged quantity. \n",
    "- It turns out that the elastic properties do depend on the orientation, so our single crystal model behaves quite differently from a rotationally averaged system.\n",
    "- For example, the simple relationship that you know between the bulk modulus, shear modulus and the Poisson ratio only holds for isotropic materials (so including polycrystalline materials, because of the rotational averaging), and we don't expect it to hold for the single crystal.\n",
    "- What is the deviation of the above results from the simple relationship between the three elastic properties? Which is the one that is most different from the experimental polycrystalline value? "
   ]
  },
  {
   "cell_type": "code",
   "execution_count": 4,
   "metadata": {},
   "outputs": [],
   "source": [
    "# The shear modulus deviated by around 30 GPa, the poissons ratio deviated by 0.01. The shear modulus deviated by a lot more than the poissons ratio"
   ]
  },
  {
   "cell_type": "markdown",
   "metadata": {
    "cell_id": "f0beded649c24aefb4c9dfc05966ddac",
    "deepnote_cell_height": 214,
    "deepnote_cell_type": "markdown"
   },
   "source": [
    "### Deliverable 5: Tension experiment with a notch\n",
    "\n",
    "![bar](./files/bar_annotated.png)"
   ]
  },
  {
   "cell_type": "markdown",
   "metadata": {
    "cell_id": "892595d792404c6987f3ab4584fc96e4",
    "deepnote_cell_height": 3552.359375,
    "deepnote_cell_type": "markdown"
   },
   "source": [
    "\n",
    "The same model can be used for simulation of more complex, larger scale geometries, e.g. the the situation shown below, which shows a slab with notch being pulled from at the top and bottom. In order to speed up the computation, we employ periodic boundary conditions in one of the directions (Z) that is perpendicular to the direction that you will apply the strain along (X). The atoms are coloured according to their energy (blue is lowest, red is highest, green is in between). As the load is applied, instead of following the evolution of the atomic positions in time, we optimise the positions to find the lowest energy state corresponding to each particular applied strain. This can be accomplished much more quickly using sophisticated optimisation techniques (which you might learn more about in Part IIA), rather than by integrating forward the equations of motion for the atoms.\n",
    "\n",
    "Please write out answers to the following questions (bulletpoints are accepted):\n",
    "\n",
    "1. __Take a look at the [animation](https://deepnote.com/project/02a51db6-fc97-4151-b517-6482c8fdf794#%2FMorse2d_video.mp4) and identify the dislocations that are nucleating.__<br>\n",
    "(If the link doesn't work, download the file directly from the same directory this notebook is in [see top right folder icon])\n",
    "\n",
    "2. __Describe what happens to the dislocation subsequent to nucleation: how do the dislocations and free surfaces interact? What happens to the dislocations that reach the fixed part of the bar that corresponds to the \"grips\" in the experiment?__ \n",
    "3. __What happens to the notch?__\n",
    "\n",
    "*Note that you have observed only one kind of process, dislocation nucleation and glide. In a real material, or a more realistic model, there will be many different kinds of plastic processes. Some take more time than what you are able to simulate, some need preexisting flaws to start, some need multiple crystal grains and the grain boundaries between them, some need a more realistic length scale to be modelled.*\n"
   ]
  },
  {
   "cell_type": "markdown",
   "metadata": {},
   "source": [
    "#Question 1\n",
    "- Dislocations start around the center of the crack and moves in a straight line\n",
    "#Question 2\n",
    "- Dislocations move in a straight line until it reaches a surface\n",
    "- When the dislocation reaches a fixed part of the bar it stops and becomes a region of high energy, which can nucleate another dislocation that moves in another direction\n",
    "- When the dislocation reaches a free surface, it's energy is dissipated and it changes the shape of the surface\n",
    "#Question 3\n",
    "- The notch starts growing a crack which increases in size as more and more dislocations are nucleated"
   ]
  },
  {
   "cell_type": "markdown",
   "metadata": {
    "cell_id": "a0f4d17df4964ec9887703e4360b9347",
    "deepnote_cell_height": 97.1875,
    "deepnote_cell_type": "markdown"
   },
   "source": [
    "--- *end of laboratory exercise* ---"
   ]
  },
  {
   "cell_type": "markdown",
   "metadata": {
    "cell_id": "35862f44f5ef4d1c858a6efdd5375f19",
    "deepnote_cell_height": 1709.484375,
    "deepnote_cell_type": "markdown"
   },
   "source": [
    "## Optional extensions\n",
    "\n",
    "You are also supplied an [example program](files/run_cu_bar_notch_2d_qs.py) which creates an atomistic model representing a notched bar and runs the simulation that produced the above animation. You can run the program yourself, and in order to visualize the output trajectory of the atoms, download and install [Ovito](https://ovito.org), an atomistic visualisation tool. In Ovito you can open the trajectory file that is produced (ending with ```.xyz```), then you will need to check the \"File contains multiple timesteps\" checkbox on the right under the \"XYZ File\" heading, so that the animation controls to activate. The best way to see where deformation takes place is to colour the atoms according to their atomic energy, you can accomplish this by clicking on \"Add Modification\" in the top right panel, selecting \"Color coding\", and then selecting the \"Potential energy\" property from the dropdown menu, then click on \"Adjust range\"."
   ]
  },
  {
   "cell_type": "markdown",
   "metadata": {
    "cell_id": "e9a193ee0a5c4c31ad149a9a8458178a",
    "deepnote_cell_height": 612.359375,
    "deepnote_cell_type": "markdown"
   },
   "source": [
    "_Note: the simulation with the default parameters can take several hours to run, depending on the speed of your computer, but you can visualise the trajectory while it is being generated. Clicking the \"Reload animation frames\" button under the \"External data sources\" tab loads the most recent version of the trajectory file into Ovito._"
   ]
  },
  {
   "cell_type": "markdown",
   "metadata": {
    "cell_id": "e444982cbed14e5d925f0ab55ff02985",
    "deepnote_cell_height": 1357.109375,
    "deepnote_cell_type": "markdown"
   },
   "source": [
    "\n",
    "__Change the simulation to alter the width and/or length of the initial notch, and run the simulation again. How does the critical strain change?__\n",
    "\n",
    "__Modify the program to create an empty void in the middle of the bar (which is another typical flaw found in metals), instead of the two notches. Observe the evolution of the shape of the bar and the void during the tension experiment. What happens to the volume of the void?__\n",
    "\n",
    "__Inspect the code to figure out how constraints are applied to the system (there is also documentation of this on the ASE homepage), and use it to model an inclusion in the middle of system by a block of rigid atoms whose positions are fixed throughout the simulation. How does this affect the dislocations?__"
   ]
  },
  {
   "cell_type": "markdown",
   "metadata": {
    "cell_id": "8bbc188a1d264961aa27f1e74200114c",
    "collapsed": true,
    "deepnote_cell_height": 2082.25,
    "deepnote_cell_type": "markdown"
   },
   "source": [
    "\n",
    "If you want to how a non-metal behaves under the same conditions, and you manage to install the [QUIP and quippy packages](https://github.com/libatoms/quip) (tested on MacOS and Linux), then you can run this [modified program](./files/run_si_bar_notch_2d_qs.py) that simulates the tension experiment on a model of silicon, rather than copper, leading to qualitatively different results... \n",
    "\n",
    "The above simulations neglected the effect of temperature: only those processes happenned that were not hampered by an energy barrier. There are many small energy barriers in this system, and at finite temperature, given enough time, the system overcomes those barriers. You can simulate this effect by writing a program that integrates Newton's law of motion for the atoms using the velocity-Verlet algorithm and the forces on the atoms returned by the atomistic model. This is called *molecular dynamics*. Because atoms are light and the forces on the large, you need to use a time step on the order of 1 fs ($10^{-15}$ seconds, but be careful about the units of the atomic positions and the forces returned by ASE). In order to see something happenning in a reasonable time, it helps if you try rather high temperature!"
   ]
  },
  {
   "cell_type": "code",
   "execution_count": null,
   "metadata": {
    "cell_id": "3b1dd1a542bb4582976f5c36fd8d6091",
    "deepnote_cell_height": 61,
    "deepnote_cell_type": "code",
    "deepnote_to_be_reexecuted": true,
    "source_hash": "b623e53d"
   },
   "outputs": [],
   "source": []
  },
  {
   "cell_type": "markdown",
   "metadata": {
    "created_in_deepnote_cell": true,
    "deepnote_cell_type": "markdown"
   },
   "source": [
    "<a style='text-decoration:none;line-height:16px;display:flex;color:#5B5B62;padding:10px;justify-content:end;' href='https://deepnote.com?utm_source=created-in-deepnote-cell&projectId=00126201-02a2-4655-9b63-1cb17da75327' target=\"_blank\">\n",
    "<img alt='Created in deepnote.com' style='display:inline;max-height:16px;margin:0px;margin-right:7.5px;' src='data:image/svg+xml;base64,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' > </img>\n",
    "Created in <span style='font-weight:600;margin-left:4px;'>Deepnote</span></a>"
   ]
  }
 ],
 "metadata": {
  "deepnote_execution_queue": [],
  "deepnote_notebook_id": "a7d8d8cd8bda4768a935aee926b92bc5",
  "kernelspec": {
   "display_name": "Python 3 (ipykernel)",
   "language": "python",
   "name": "python3"
  },
  "language_info": {
   "codemirror_mode": {
    "name": "ipython",
    "version": 3
   },
   "file_extension": ".py",
   "mimetype": "text/x-python",
   "name": "python",
   "nbconvert_exporter": "python",
   "pygments_lexer": "ipython3",
   "version": "3.11.5"
  }
 },
 "nbformat": 4,
 "nbformat_minor": 1
}
